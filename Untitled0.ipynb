{
  "nbformat": 4,
  "nbformat_minor": 0,
  "metadata": {
    "colab": {
      "provenance": [],
      "gpuType": "T4",
      "authorship_tag": "ABX9TyPspRq7R/FPmCCs4J0DpDiL",
      "include_colab_link": true
    },
    "kernelspec": {
      "name": "python3",
      "display_name": "Python 3"
    },
    "language_info": {
      "name": "python"
    },
    "accelerator": "GPU"
  },
  "cells": [
    {
      "cell_type": "markdown",
      "metadata": {
        "id": "view-in-github",
        "colab_type": "text"
      },
      "source": [
        "<a href=\"https://colab.research.google.com/github/ParisaArbab/AI--First-Order-Logic-and-Prolog/blob/main/Untitled0.ipynb\" target=\"_parent\"><img src=\"https://colab.research.google.com/assets/colab-badge.svg\" alt=\"Open In Colab\"/></a>"
      ]
    },
    {
      "cell_type": "code",
      "source": [
        "!pip install torch-geometric\n",
        "!pip install rdkit"
      ],
      "metadata": {
        "colab": {
          "base_uri": "https://localhost:8080/"
        },
        "id": "vE-9tRipl9ta",
        "outputId": "e2541523-7225-4ff1-fa3c-84962e224205"
      },
      "execution_count": 46,
      "outputs": [
        {
          "output_type": "stream",
          "name": "stdout",
          "text": [
            "Requirement already satisfied: torch-geometric in /usr/local/lib/python3.11/dist-packages (2.6.1)\n",
            "Requirement already satisfied: aiohttp in /usr/local/lib/python3.11/dist-packages (from torch-geometric) (3.11.11)\n",
            "Requirement already satisfied: fsspec in /usr/local/lib/python3.11/dist-packages (from torch-geometric) (2024.10.0)\n",
            "Requirement already satisfied: jinja2 in /usr/local/lib/python3.11/dist-packages (from torch-geometric) (3.1.5)\n",
            "Requirement already satisfied: numpy in /usr/local/lib/python3.11/dist-packages (from torch-geometric) (1.26.4)\n",
            "Requirement already satisfied: psutil>=5.8.0 in /usr/local/lib/python3.11/dist-packages (from torch-geometric) (5.9.5)\n",
            "Requirement already satisfied: pyparsing in /usr/local/lib/python3.11/dist-packages (from torch-geometric) (3.2.1)\n",
            "Requirement already satisfied: requests in /usr/local/lib/python3.11/dist-packages (from torch-geometric) (2.32.3)\n",
            "Requirement already satisfied: tqdm in /usr/local/lib/python3.11/dist-packages (from torch-geometric) (4.67.1)\n",
            "Requirement already satisfied: aiohappyeyeballs>=2.3.0 in /usr/local/lib/python3.11/dist-packages (from aiohttp->torch-geometric) (2.4.4)\n",
            "Requirement already satisfied: aiosignal>=1.1.2 in /usr/local/lib/python3.11/dist-packages (from aiohttp->torch-geometric) (1.3.2)\n",
            "Requirement already satisfied: attrs>=17.3.0 in /usr/local/lib/python3.11/dist-packages (from aiohttp->torch-geometric) (24.3.0)\n",
            "Requirement already satisfied: frozenlist>=1.1.1 in /usr/local/lib/python3.11/dist-packages (from aiohttp->torch-geometric) (1.5.0)\n",
            "Requirement already satisfied: multidict<7.0,>=4.5 in /usr/local/lib/python3.11/dist-packages (from aiohttp->torch-geometric) (6.1.0)\n",
            "Requirement already satisfied: propcache>=0.2.0 in /usr/local/lib/python3.11/dist-packages (from aiohttp->torch-geometric) (0.2.1)\n",
            "Requirement already satisfied: yarl<2.0,>=1.17.0 in /usr/local/lib/python3.11/dist-packages (from aiohttp->torch-geometric) (1.18.3)\n",
            "Requirement already satisfied: MarkupSafe>=2.0 in /usr/local/lib/python3.11/dist-packages (from jinja2->torch-geometric) (3.0.2)\n",
            "Requirement already satisfied: charset-normalizer<4,>=2 in /usr/local/lib/python3.11/dist-packages (from requests->torch-geometric) (3.4.1)\n",
            "Requirement already satisfied: idna<4,>=2.5 in /usr/local/lib/python3.11/dist-packages (from requests->torch-geometric) (3.10)\n",
            "Requirement already satisfied: urllib3<3,>=1.21.1 in /usr/local/lib/python3.11/dist-packages (from requests->torch-geometric) (2.3.0)\n",
            "Requirement already satisfied: certifi>=2017.4.17 in /usr/local/lib/python3.11/dist-packages (from requests->torch-geometric) (2024.12.14)\n",
            "Requirement already satisfied: rdkit in /usr/local/lib/python3.11/dist-packages (2024.9.4)\n",
            "Requirement already satisfied: numpy in /usr/local/lib/python3.11/dist-packages (from rdkit) (1.26.4)\n",
            "Requirement already satisfied: Pillow in /usr/local/lib/python3.11/dist-packages (from rdkit) (11.1.0)\n"
          ]
        }
      ]
    },
    {
      "cell_type": "markdown",
      "source": [
        "# **0- Libraries**\n"
      ],
      "metadata": {
        "id": "w-UkF9aiYTKp"
      }
    },
    {
      "cell_type": "code",
      "source": [
        "import torch\n",
        "import torch.nn as nn\n",
        "import torch.optim as optim\n",
        "from torch_geometric.loader import DataLoader\n",
        "from torch_geometric.datasets import MoleculeNet\n",
        "from torch_geometric.nn import GCNConv, global_mean_pool, GATConv\n",
        "from sklearn.metrics import mean_squared_error\n",
        "import matplotlib.pyplot as plt"
      ],
      "metadata": {
        "id": "vpxJa4lJ7gvw"
      },
      "execution_count": 47,
      "outputs": []
    },
    {
      "cell_type": "markdown",
      "source": [
        "# **1- Load Dataset**"
      ],
      "metadata": {
        "id": "OYZyKSXXYgYK"
      }
    },
    {
      "cell_type": "code",
      "source": [
        "# Load ESOL dataset\n",
        "dataset = MoleculeNet(root='/tmp/ESOL', name='ESOL')"
      ],
      "metadata": {
        "id": "nEIR7rGZ7z7n"
      },
      "execution_count": 48,
      "outputs": []
    },
    {
      "cell_type": "code",
      "source": [
        "# Step 1: Display Initial Node Features and Edge Attributes\n",
        "# data = toy_data[0]\n",
        "data = dataset[0] # extract one graph\n",
        "print(\"Num of nodes:\", data.x.shape[0])\n",
        "print(\"Num of Node Features:\", data.x.shape[1])\n",
        "\n",
        "print(\"Num of Edges:\", data.edge_attr.shape[0])\n",
        "print(\"Num of Edge Features:\", data.edge_attr.shape[1])\n",
        "\n",
        "data.size()"
      ],
      "metadata": {
        "colab": {
          "base_uri": "https://localhost:8080/"
        },
        "id": "KFiML6EV50VI",
        "outputId": "2dc4a44b-c07d-425f-f69e-e80369bcccd9"
      },
      "execution_count": 49,
      "outputs": [
        {
          "output_type": "stream",
          "name": "stdout",
          "text": [
            "Num of nodes: 32\n",
            "Num of Node Features: 9\n",
            "Num of Edges: 68\n",
            "Num of Edge Features: 3\n"
          ]
        },
        {
          "output_type": "execute_result",
          "data": {
            "text/plain": [
              "(32, 32)"
            ]
          },
          "metadata": {},
          "execution_count": 49
        }
      ]
    },
    {
      "cell_type": "markdown",
      "source": [
        "# **2- Encode neighbors with Edge weights**"
      ],
      "metadata": {
        "id": "5QceWg9gWZFO"
      }
    },
    {
      "cell_type": "markdown",
      "source": [
        " This function adds neighbor information (e.g., degree features or adjacency-based features) to the original node features of each graph."
      ],
      "metadata": {
        "id": "YN0rNXMELkAS"
      }
    },
    {
      "cell_type": "code",
      "source": [
        "# Function to encode graph with neighbor information\n",
        "def encode_neighbors_with_edge_weights(data):\n",
        "    x, edge_index = data.x, data.edge_index\n",
        "    num_nodes = x.size(0)\n",
        "    adj_matrix = torch.zeros((num_nodes, num_nodes), dtype=torch.float32, device=x.device)\n",
        "\n",
        "    for i in range(edge_index.size(1)):\n",
        "        src, dst = edge_index[:, i]\n",
        "        adj_matrix[src, dst] = 1  # Assuming unweighted edges for simplicity\n",
        "\n",
        "    # Add adjacency rows to node features\n",
        "    # neighbor_features = adj_matrix.sum(dim=1, keepdim=True)  # Example: Degree as additional feature\n",
        "    data.x = torch.cat([x, adj_matrix], dim=1)  # Concatenate original features with neighbor features\n",
        "    return data\n",
        "\n",
        "# Apply encoding to all graphs in the dataset\n",
        "#encoded_dataset = [encode_neighbors_with_edge_weights(data) for data in dataset]"
      ],
      "metadata": {
        "id": "xSKLVE-eWvXI"
      },
      "execution_count": 50,
      "outputs": []
    },
    {
      "cell_type": "code",
      "source": [
        "# Show the first graph's node features before and after encoding\n",
        "# print(\"Original Node Features (First Graph):\")\n",
        "# print(dataset[0].x.size())\n",
        "\n",
        "print(\"Data size:         \", data.x.size())\n",
        "encoded_dataset = encode_neighbors_with_edge_weights(data.clone())\n",
        "\n",
        "# print(\"\\nEncoded Node Features (First Graph):\")\n",
        "# encoded_dataset[0].x.size()\n",
        "\n",
        "\n",
        "\n",
        "\n",
        "print(\"Encoded Data size: \" , encoded_dataset.x.size())\n"
      ],
      "metadata": {
        "colab": {
          "base_uri": "https://localhost:8080/"
        },
        "id": "AybCMrJ7TD9E",
        "outputId": "84c3405f-82a4-44ca-f37a-901b72a14cd7"
      },
      "execution_count": 51,
      "outputs": [
        {
          "output_type": "stream",
          "name": "stdout",
          "text": [
            "Data size:          torch.Size([32, 9])\n",
            "Encoded Data size:  torch.Size([32, 41])\n"
          ]
        }
      ]
    },
    {
      "cell_type": "code",
      "source": [
        "for i in range(len(dataset)):\n",
        "    data = dataset[i]\n",
        "for i in range(len(dataset)):\n",
        "    data = dataset[i]\n",
        "    encoded_dataset = encode_neighbors_with_edge_weights(data.clone())\n",
        "    if i % 100 == 0:\n",
        "      print('\\n', data.x.size())\n",
        "      print(encoded_dataset.x.size())"
      ],
      "metadata": {
        "colab": {
          "base_uri": "https://localhost:8080/"
        },
        "id": "ZbQMvdZX_kU6",
        "outputId": "af8af9b8-73c5-4a56-896d-21d8765abc33"
      },
      "execution_count": 52,
      "outputs": [
        {
          "output_type": "stream",
          "name": "stdout",
          "text": [
            "\n",
            " torch.Size([32, 9])\n",
            "torch.Size([32, 41])\n",
            "\n",
            " torch.Size([24, 9])\n",
            "torch.Size([24, 33])\n",
            "\n",
            " torch.Size([17, 9])\n",
            "torch.Size([17, 26])\n",
            "\n",
            " torch.Size([19, 9])\n",
            "torch.Size([19, 28])\n",
            "\n",
            " torch.Size([16, 9])\n",
            "torch.Size([16, 25])\n",
            "\n",
            " torch.Size([23, 9])\n",
            "torch.Size([23, 32])\n",
            "\n",
            " torch.Size([2, 9])\n",
            "torch.Size([2, 11])\n",
            "\n",
            " torch.Size([19, 9])\n",
            "torch.Size([19, 28])\n",
            "\n",
            " torch.Size([6, 9])\n",
            "torch.Size([6, 15])\n",
            "\n",
            " torch.Size([17, 9])\n",
            "torch.Size([17, 26])\n",
            "\n",
            " torch.Size([5, 9])\n",
            "torch.Size([5, 14])\n",
            "\n",
            " torch.Size([7, 9])\n",
            "torch.Size([7, 16])\n"
          ]
        }
      ]
    },
    {
      "cell_type": "markdown",
      "source": [
        "# **3- Padding**"
      ],
      "metadata": {
        "id": "JMa9MkBp7I_M"
      }
    },
    {
      "cell_type": "code",
      "source": [
        "max_nodes = 0\n",
        "max_features = 0\n",
        "for i in range(len(dataset)):\n",
        "    data = dataset[i]\n",
        "    num_nodes = data.x.size(0)\n",
        "    feature_dim = data.x.size(1)\n",
        "    max_nodes = max(max_nodes, num_nodes)\n",
        "    max_features = max(max_features, feature_dim)\n",
        "\n",
        "print(f\"The largest number of nodes in the dataset is: {max_nodes}\")\n",
        "print(f\"The largest number of features in the dataset is: {max_features}\")"
      ],
      "metadata": {
        "id": "MVTgss3X8IcG",
        "colab": {
          "base_uri": "https://localhost:8080/"
        },
        "outputId": "e0cc9eaa-6db5-4d3f-a70a-7b1edb05bcc1"
      },
      "execution_count": 53,
      "outputs": [
        {
          "output_type": "stream",
          "name": "stdout",
          "text": [
            "The largest number of nodes in the dataset is: 55\n",
            "The largest number of features in the dataset is: 9\n"
          ]
        }
      ]
    },
    {
      "cell_type": "code",
      "source": [
        "def padding_x(x, max_nodes, max_features):\n",
        "    num_nodes = x.size(0)\n",
        "    num_features = x.size(1)\n",
        "\n",
        "    # Pad nodes with zero rows\n",
        "    padding_nodes = max_nodes - num_nodes\n",
        "    if padding_nodes > 0:\n",
        "      node_padding = torch.zeros(padding_nodes, num_features, dtype=data.x.dtype, device=data.x.device)\n",
        "      data.x = torch.cat([data.x, node_padding], dim=0)\n",
        "\n",
        "\n",
        "    return data"
      ],
      "metadata": {
        "id": "bmWh0dMu7dR9"
      },
      "execution_count": 54,
      "outputs": []
    },
    {
      "cell_type": "code",
      "source": [
        "def padding_x(x, max_nodes, max_features):\n",
        "    num_nodes = x.size(0)\n",
        "    num_features = x.size(1)\n",
        "    padding_nodes = max_nodes - num_nodes\n",
        "    padding_features = max_features - num_features\n",
        "\n",
        "    if padding_nodes > 0:\n",
        "        padding = torch.zeros((padding_nodes, x.size(1)), device=x.device)\n",
        "        x = torch.cat([x, padding], dim=0)\n",
        "\n",
        "    if padding_features > 0:\n",
        "        padding = torch.zeros((x.size(0), padding_features), device=x.device)\n",
        "        x = torch.cat([x, padding], dim=1)\n",
        "\n",
        "    return x"
      ],
      "metadata": {
        "id": "Dz8poRm48SYg"
      },
      "execution_count": 55,
      "outputs": []
    },
    {
      "cell_type": "code",
      "source": [
        "padded = []\n",
        "for data in dataset:\n",
        "    encoded_dataset = encode_neighbors_with_edge_weights(data.clone())\n",
        "    padded_dataset = padding_x(encoded_dataset.x, max_nodes, max_features+max_nodes)\n",
        "    padded.append(padded_dataset)\n",
        "\n",
        "padded[10].size()\n"
      ],
      "metadata": {
        "id": "N8SZsu2N8bf-",
        "colab": {
          "base_uri": "https://localhost:8080/"
        },
        "outputId": "8ddc0c3f-6b00-4376-cc0f-aa48db92ad77"
      },
      "execution_count": 56,
      "outputs": [
        {
          "output_type": "execute_result",
          "data": {
            "text/plain": [
              "torch.Size([55, 64])"
            ]
          },
          "metadata": {},
          "execution_count": 56
        }
      ]
    },
    {
      "cell_type": "code",
      "source": [
        "# Assuming 'padded' is your list of padded data tensors as in the provided code\n",
        "# loader = DataLoader(padded, batch_size=64, shuffle=True) # Adjust batch_size as needed\n",
        "# next(iter(loader)).size() # batch_size x num_nodes x num_featurs"
      ],
      "metadata": {
        "id": "Gm-4He7hDaWI"
      },
      "execution_count": 57,
      "outputs": []
    },
    {
      "cell_type": "code",
      "source": [
        "# Create a list to store the Data objects with padded features\n",
        "padded_data_list = []\n",
        "for i, data in enumerate(dataset):\n",
        "    encoded_dataset = encode_neighbors_with_edge_weights(data.clone())\n",
        "    padded_x = padding_x(encoded_dataset.x, max_nodes, max_features + max_nodes)\n",
        "\n",
        "    # Create a new Data object with the padded features and original attributes\n",
        "    padded_data = data.clone()  # Clone to avoid modifying the original dataset\n",
        "    padded_data.x = padded_x\n",
        "\n",
        "    padded_data_list.append(padded_data)\n",
        "\n",
        "# Create DataLoader from the list of Data objects\n",
        "loader = DataLoader(padded_data_list, batch_size=64, shuffle=True)"
      ],
      "metadata": {
        "id": "s8clE2k3UPj-"
      },
      "execution_count": 58,
      "outputs": []
    },
    {
      "cell_type": "markdown",
      "source": [
        "# **4- Split the Dataset**"
      ],
      "metadata": {
        "id": "YhnbLHQO738x"
      }
    },
    {
      "cell_type": "code",
      "source": [
        "# Split dataset (80% train, 10% val, 10% test)\n",
        "train_size = int(0.8 * len(padded_data_list))\n",
        "valid_size = int(0.1 * len(padded_data_list))\n",
        "test_size = len(padded_data_list) - train_size - valid_size\n",
        "train_dataset, valid_dataset, test_dataset = torch.utils.data.random_split(\n",
        "    padded_data_list, [train_size, valid_size, test_size]\n",
        ")\n",
        "\n",
        "# DataLoaders\n",
        "train_loader = DataLoader(train_dataset, batch_size=64, shuffle=True)\n",
        "valid_loader = DataLoader(valid_dataset, batch_size=64, shuffle=False)\n",
        "test_loader = DataLoader(test_dataset, batch_size=64, shuffle=False)\n"
      ],
      "metadata": {
        "id": "9kVFDQl-8qZE"
      },
      "execution_count": 59,
      "outputs": []
    },
    {
      "cell_type": "markdown",
      "source": [
        "# **5- Define Models**"
      ],
      "metadata": {
        "id": "MniEN5Lw8via"
      }
    },
    {
      "cell_type": "code",
      "source": [
        "class TransformerGraphModel(nn.Module):\n",
        "    def __init__(self, input_dim, hidden_dim, num_classes=2, num_heads=8, dropout=0.1):\n",
        "        super(TransformerGraphModel, self).__init__()\n",
        "\n",
        "        # Linear layer to project input features to the required embed_dim\n",
        "        # self.input_projection = nn.Linear(input_dim, embed_dim)\n",
        "\n",
        "        # Multi-head self-attention layer\n",
        "        self.attention = nn.MultiheadAttention(input_dim, num_heads, dropout=dropout, batch_first=True)\n",
        "\n",
        "        # Feedforward layers\n",
        "        self.fc1 = nn.Linear(input_dim, hidden_dim)\n",
        "        self.relu = nn.ReLU()\n",
        "        self.fc2 = nn.Linear(hidden_dim, num_classes)\n",
        "        self.dropout = nn.Dropout(dropout)\n",
        "\n",
        "\n",
        "    def forward(self, x):\n",
        "        # x: batch_size x num_nodes x num_features (input_dim)\n",
        "\n",
        "        # Project input features to the required embed_dim\n",
        "        #x = self.input_projection(x)  # Shape: (batch_size, num_nodes, embed_dim)\n",
        "\n",
        "        # Apply multi-head self-attention\n",
        "        attn_output, _ = self.attention(x, x, x)  # Query, Key, Value are all x\n",
        "\n",
        "        # Combine attention output with input\n",
        "        x = x + attn_output  # Residual connection: batch_size x num_nodes x embed_dim\n",
        "\n",
        "        # Feedforward layers\n",
        "        x = self.dropout(self.relu(self.fc1(x)))\n",
        "        x = self.fc2(x)\n",
        "        return x  # x: batch_size x num_nodes x num_classes // assert\n",
        "\n",
        "        # # Pool node features to graph-level representation\n",
        "        # x = global_mean_pool(x, batch)  # Shape: (batch_size, embed_dim)\n",
        "\n",
        "        # # Feedforward layers\n",
        "        # x = self.fc1(x).relu()\n",
        "        # return self.fc2(x).squeeze(-1)\n",
        "\n",
        "\n",
        "\n",
        "\n",
        "    #     class TransformerGraphModel(nn.Module):\n",
        "    # def __init__(self, input_dim, hidden_dim, num_classes=1, num_heads=8, dropout=0.1): # num_classes=1 for regression\n",
        "    #     super(TransformerGraphModel, self).__init__()\n",
        "    #     self.attention = nn.MultiheadAttention(input_dim, num_heads, dropout=dropout, batch_first=True)\n",
        "    #     self.fc1 = nn.Linear(input_dim, hidden_dim)\n",
        "    #     self.relu = nn.ReLU()\n",
        "    #     self.fc2 = nn.Linear(hidden_dim, num_classes) # Output dim is 1 for regression\n",
        "    #     self.dropout = nn.Dropout(dropout)\n",
        "\n",
        "    # def forward(self, x, batch): # Added batch to the input\n",
        "    #     attn_output, _ = self.attention(x, x, x)\n",
        "    #     x = x + attn_output\n",
        "    #     x = self.dropout(self.relu(self.fc1(x)))\n",
        "    #     x = self.fc2(x)\n",
        "    #     x = global_mean_pool(x, batch) # Apply global_mean_pool\n",
        "    #     return x.squeeze(-1) # Return a single value per graph"
      ],
      "metadata": {
        "id": "6ddQi9vQ85o7"
      },
      "execution_count": 60,
      "outputs": []
    },
    {
      "cell_type": "code",
      "source": [
        "# Define GCN Model\n",
        "class GCNModel(nn.Module):\n",
        "    def __init__(self, input_dim, hidden_dim, output_dim):\n",
        "        super(GCNModel, self).__init__()\n",
        "        self.conv1 = GCNConv(input_dim, hidden_dim)\n",
        "        self.conv2 = GCNConv(hidden_dim, hidden_dim)\n",
        "        self.fc = nn.Linear(hidden_dim, output_dim)\n",
        "\n",
        "    def forward(self, x, edge_index, batch):\n",
        "        x = self.conv1(x, edge_index).relu()\n",
        "        x = self.conv2(x, edge_index).relu()\n",
        "        x = global_mean_pool(x, batch)\n",
        "        return self.fc(x).squeeze(-1)"
      ],
      "metadata": {
        "id": "KeVTmFUfKenT"
      },
      "execution_count": 61,
      "outputs": []
    },
    {
      "cell_type": "code",
      "source": [
        "# Define GAT Model\n",
        "class GATModel(nn.Module):\n",
        "    def __init__(self, input_dim, hidden_dim, output_dim, heads=4):\n",
        "        super(GATModel, self).__init__()\n",
        "        self.conv1 = GATConv(input_dim, hidden_dim, heads=heads, concat=True)\n",
        "        self.conv2 = GATConv(hidden_dim * heads, hidden_dim, heads=1, concat=False)\n",
        "        self.fc = nn.Linear(hidden_dim, output_dim)\n",
        "\n",
        "    def forward(self, x, edge_index, batch):\n",
        "        x = self.conv1(x, edge_index).relu()\n",
        "        x = self.conv2(x, edge_index).relu()\n",
        "        x = global_mean_pool(x, batch)\n",
        "        return self.fc(x).squeeze(-1)"
      ],
      "metadata": {
        "id": "TByE3EFZKlu1"
      },
      "execution_count": 62,
      "outputs": []
    },
    {
      "cell_type": "markdown",
      "source": [
        "# **6- Initialize model**"
      ],
      "metadata": {
        "id": "f-FaRyHH9ACZ"
      }
    },
    {
      "cell_type": "code",
      "source": [
        "# Initialize Models\n",
        "input_dim = max_features+ max_nodes\n",
        "hidden_dim = 128\n",
        "output_dim = 1\n",
        "embed_dim = 64\n",
        "num_heads = 8\n",
        "dropout=0.1\n",
        "models = {\n",
        "    \"GCN\": GCNModel(input_dim, hidden_dim, output_dim),\n",
        "    \"GAT\": GATModel(input_dim, hidden_dim, output_dim),\n",
        "    \"TransformerGraph\": TransformerGraphModel(input_dim, hidden_dim, output_dim, num_heads, dropout),\n",
        "}\n"
      ],
      "metadata": {
        "id": "ugv__xyI9OGs"
      },
      "execution_count": 63,
      "outputs": []
    },
    {
      "cell_type": "code",
      "source": [
        "input = next(iter(loader))\n",
        "print(\"Input size:\", input.size())\n",
        "input_dim = input.size(-1)\n",
        "\n",
        "# model = TransformerGraphModel(input_dim=input_dim, hidden_dim=64)\n",
        "# output = model(input)\n",
        "# print(\"Output size:\", output.size())"
      ],
      "metadata": {
        "colab": {
          "base_uri": "https://localhost:8080/"
        },
        "id": "F2vpQ56sE61U",
        "outputId": "6a853e7d-fa23-44b7-9e52-0cb8f0a6ecfd"
      },
      "execution_count": 65,
      "outputs": [
        {
          "output_type": "stream",
          "name": "stdout",
          "text": [
            "Input size: (3520, 3520)\n"
          ]
        }
      ]
    },
    {
      "cell_type": "code",
      "source": [
        "encoded_dataset.x\n"
      ],
      "metadata": {
        "colab": {
          "base_uri": "https://localhost:8080/"
        },
        "id": "9Nj_fXz4HL9y",
        "outputId": "a2b2f55d-36d5-4c81-faf3-842c94624f6b"
      },
      "execution_count": 66,
      "outputs": [
        {
          "output_type": "execute_result",
          "data": {
            "text/plain": [
              "tensor([[ 6.,  0.,  4.,  5.,  3.,  0.,  4.,  0.,  0.,  0.,  1.,  0.,  0.,  0.,\n",
              "          0.,  0.,  0.,  0.,  0.,  0.,  0.,  0.,  0.,  0.,  0.,  0.,  0.,  0.],\n",
              "        [ 8.,  0.,  2.,  5.,  0.,  0.,  4.,  0.,  0.,  1.,  0.,  1.,  0.,  0.,\n",
              "          0.,  0.,  0.,  0.,  0.,  0.,  0.,  0.,  0.,  0.,  0.,  0.,  0.,  0.],\n",
              "        [15.,  0.,  4.,  5.,  0.,  0.,  4.,  0.,  0.,  0.,  1.,  0.,  1.,  1.,\n",
              "          0.,  1.,  0.,  0.,  0.,  0.,  0.,  0.,  0.,  0.,  0.,  0.,  0.,  0.],\n",
              "        [ 8.,  0.,  1.,  5.,  0.,  0.,  3.,  0.,  0.,  0.,  0.,  1.,  0.,  0.,\n",
              "          0.,  0.,  0.,  0.,  0.,  0.,  0.,  0.,  0.,  0.,  0.,  0.,  0.,  0.],\n",
              "        [ 8.,  0.,  2.,  5.,  0.,  0.,  4.,  0.,  0.,  0.,  0.,  1.,  0.,  0.,\n",
              "          1.,  0.,  0.,  0.,  0.,  0.,  0.,  0.,  0.,  0.,  0.,  0.,  0.,  0.],\n",
              "        [ 6.,  0.,  4.,  5.,  3.,  0.,  4.,  0.,  0.,  0.,  0.,  0.,  0.,  1.,\n",
              "          0.,  0.,  0.,  0.,  0.,  0.,  0.,  0.,  0.,  0.,  0.,  0.,  0.,  0.],\n",
              "        [ 8.,  0.,  2.,  5.,  0.,  0.,  3.,  0.,  0.,  0.,  0.,  1.,  0.,  0.,\n",
              "          0.,  0.,  1.,  0.,  0.,  0.,  0.,  0.,  0.,  0.,  0.,  0.,  0.,  0.],\n",
              "        [ 6.,  0.,  3.,  5.,  0.,  0.,  3.,  0.,  0.,  0.,  0.,  0.,  0.,  0.,\n",
              "          0.,  1.,  0.,  1.,  0.,  1.,  0.,  0.,  0.,  0.,  0.,  0.,  0.,  0.],\n",
              "        [ 6.,  0.,  3.,  5.,  1.,  0.,  3.,  0.,  0.,  0.,  0.,  0.,  0.,  0.,\n",
              "          0.,  0.,  1.,  0.,  1.,  0.,  0.,  0.,  0.,  0.,  0.,  0.,  0.,  0.],\n",
              "        [17.,  0.,  1.,  5.,  0.,  0.,  4.,  0.,  0.,  0.,  0.,  0.,  0.,  0.,\n",
              "          0.,  0.,  0.,  1.,  0.,  0.,  0.,  0.,  0.,  0.,  0.,  0.,  0.,  0.],\n",
              "        [ 6.,  0.,  3.,  5.,  0.,  0.,  3.,  1.,  1.,  0.,  0.,  0.,  0.,  0.,\n",
              "          0.,  0.,  1.,  0.,  0.,  0.,  1.,  0.,  0.,  0.,  0.,  0.,  1.,  0.],\n",
              "        [ 6.,  0.,  3.,  5.,  1.,  0.,  3.,  1.,  1.,  0.,  0.,  0.,  0.,  0.,\n",
              "          0.,  0.,  0.,  0.,  0.,  1.,  0.,  1.,  0.,  0.,  0.,  0.,  0.,  0.],\n",
              "        [ 6.,  0.,  3.,  5.,  0.,  0.,  3.,  1.,  1.,  0.,  0.,  0.,  0.,  0.,\n",
              "          0.,  0.,  0.,  0.,  0.,  0.,  1.,  0.,  1.,  1.,  0.,  0.,  0.,  0.],\n",
              "        [17.,  0.,  1.,  5.,  0.,  0.,  4.,  0.,  0.,  0.,  0.,  0.,  0.,  0.,\n",
              "          0.,  0.,  0.,  0.,  0.,  0.,  0.,  1.,  0.,  0.,  0.,  0.,  0.,  0.],\n",
              "        [ 6.,  0.,  3.,  5.,  0.,  0.,  3.,  1.,  1.,  0.,  0.,  0.,  0.,  0.,\n",
              "          0.,  0.,  0.,  0.,  0.,  0.,  0.,  1.,  0.,  0.,  1.,  1.,  0.,  0.],\n",
              "        [17.,  0.,  1.,  5.,  0.,  0.,  4.,  0.,  0.,  0.,  0.,  0.,  0.,  0.,\n",
              "          0.,  0.,  0.,  0.,  0.,  0.,  0.,  0.,  0.,  1.,  0.,  0.,  0.,  0.],\n",
              "        [ 6.,  0.,  3.,  5.,  1.,  0.,  3.,  1.,  1.,  0.,  0.,  0.,  0.,  0.,\n",
              "          0.,  0.,  0.,  0.,  0.,  0.,  0.,  0.,  0.,  1.,  0.,  0.,  1.,  0.],\n",
              "        [ 6.,  0.,  3.,  5.,  0.,  0.,  3.,  1.,  1.,  0.,  0.,  0.,  0.,  0.,\n",
              "          0.,  0.,  0.,  0.,  0.,  1.,  0.,  0.,  0.,  0.,  0.,  1.,  0.,  1.],\n",
              "        [17.,  0.,  1.,  5.,  0.,  0.,  4.,  0.,  0.,  0.,  0.,  0.,  0.,  0.,\n",
              "          0.,  0.,  0.,  0.,  0.,  0.,  0.,  0.,  0.,  0.,  0.,  0.,  1.,  0.]])"
            ]
          },
          "metadata": {},
          "execution_count": 66
        }
      ]
    },
    {
      "cell_type": "markdown",
      "source": [
        "# **7-  Training and Evaluation Functions**"
      ],
      "metadata": {
        "id": "xdlxtd0Dxa6z"
      }
    },
    {
      "cell_type": "code",
      "source": [
        "#print(f\"Target shape: {data.y.shape}\")\n",
        "#print(f\"Target values: {data.y}\")\n",
        "\n",
        "criterion = nn.MSELoss()\n",
        "device = torch.device('cuda' if torch.cuda.is_available() else 'cpu')\n",
        "\n",
        "def train_model(model, loader, optimizer):\n",
        "    model.train()\n",
        "    total_loss = 0\n",
        "    for data in loader:\n",
        "        data = data.to(device)\n",
        "        optimizer.zero_grad()\n",
        "\n",
        "        # The TransformerGraphModel directly uses the encoded_dataset for its input.\n",
        "        # The encoded features (data.x) are fed into the model during training and evaluation\n",
        "        # Check if the model requires `edge_index`\n",
        "        if isinstance(model, TransformerGraphModel):\n",
        "            out = model(data.x.float(),data.batch)\n",
        "        else:\n",
        "            out = model(data.x.float(), data.edge_index, data.batch)\n",
        "\n",
        "        loss = criterion(out, data.y.squeeze().float())\n",
        "        loss.backward()\n",
        "        optimizer.step()\n",
        "        total_loss += loss.item()\n",
        "    return total_loss / len(loader)\n",
        "\n",
        "def evaluate_model(model, loader):\n",
        "    model.eval()\n",
        "    total_loss = 0\n",
        "    with torch.no_grad():\n",
        "        for data in loader:\n",
        "            data = data.to(device)\n",
        "\n",
        "            # Check if the model requires `edge_index`\n",
        "            if isinstance(model, TransformerGraphModel):\n",
        "                out = model(data.x.float(), data.batch)\n",
        "            else:\n",
        "                out = model(data.x.float(), data.edge_index, data.batch)\n",
        "\n",
        "            loss = criterion(out, data.y.squeeze().float())\n",
        "            total_loss += loss.item()\n",
        "    return total_loss / len(loader)\n",
        "\n",
        "\n"
      ],
      "metadata": {
        "id": "iU-qS8zxZCF9"
      },
      "execution_count": 67,
      "outputs": []
    },
    {
      "cell_type": "markdown",
      "source": [
        "# **8- Analysis**"
      ],
      "metadata": {
        "id": "nIZ-syzX0r_Z"
      }
    },
    {
      "cell_type": "code",
      "source": [
        "# Train and Evaluate each model\n",
        "results = {}\n",
        "for model_name, model in models.items():\n",
        "    model = model.to(device)\n",
        "    optimizer = optim.Adam(model.parameters(), lr=0.001)\n",
        "\n",
        "    best_valid_loss = float('inf')\n",
        "    for epoch in range(20):\n",
        "        train_loss = train_model(model, train_loader, optimizer)\n",
        "        valid_loss = evaluate_model(model, valid_loader)\n",
        "        print(f\"{model_name} Epoch {epoch+1:02d}: Train Loss: {train_loss:.4f}, Validation RMSE: {valid_loss ** 0.5:.4f}\")\n",
        "\n",
        "        if valid_loss < best_valid_loss:\n",
        "            best_valid_loss = valid_loss\n",
        "\n",
        "    test_loss = evaluate_model(model, test_loader)\n",
        "    results[model_name] = test_loss ** 0.5  # RMSE\n",
        "\n",
        "# Plot Results\n",
        "plt.bar(results.keys(), results.values(), color=['blue', 'orange', 'green'])\n",
        "plt.title('Model Comparison (RMSE)')\n",
        "plt.ylabel('RMSE')\n",
        "plt.xlabel('Model')\n",
        "plt.show()\n",
        "\n"
      ],
      "metadata": {
        "id": "ZDbNLarhxrrr",
        "colab": {
          "base_uri": "https://localhost:8080/",
          "height": 1000
        },
        "outputId": "ba25f6a9-b49e-41bc-95f3-5684bc9db381"
      },
      "execution_count": 68,
      "outputs": [
        {
          "output_type": "stream",
          "name": "stdout",
          "text": [
            "GCN Epoch 01: Train Loss: 10.6331, Validation RMSE: 2.9088\n",
            "GCN Epoch 02: Train Loss: 4.4472, Validation RMSE: 1.7157\n",
            "GCN Epoch 03: Train Loss: 2.7365, Validation RMSE: 1.6606\n",
            "GCN Epoch 04: Train Loss: 2.6112, Validation RMSE: 1.7236\n",
            "GCN Epoch 05: Train Loss: 2.6173, Validation RMSE: 1.6670\n",
            "GCN Epoch 06: Train Loss: 2.5625, Validation RMSE: 1.6596\n",
            "GCN Epoch 07: Train Loss: 2.4591, Validation RMSE: 1.6532\n",
            "GCN Epoch 08: Train Loss: 2.4556, Validation RMSE: 1.6388\n",
            "GCN Epoch 09: Train Loss: 2.6729, Validation RMSE: 1.6420\n",
            "GCN Epoch 10: Train Loss: 2.3912, Validation RMSE: 1.6274\n",
            "GCN Epoch 11: Train Loss: 2.6474, Validation RMSE: 1.6186\n",
            "GCN Epoch 12: Train Loss: 2.4124, Validation RMSE: 1.6161\n",
            "GCN Epoch 13: Train Loss: 2.3099, Validation RMSE: 1.6053\n",
            "GCN Epoch 14: Train Loss: 2.2793, Validation RMSE: 1.5917\n",
            "GCN Epoch 15: Train Loss: 2.3474, Validation RMSE: 1.5784\n",
            "GCN Epoch 16: Train Loss: 2.2656, Validation RMSE: 1.5779\n",
            "GCN Epoch 17: Train Loss: 2.2849, Validation RMSE: 1.5891\n",
            "GCN Epoch 18: Train Loss: 2.2677, Validation RMSE: 1.5395\n",
            "GCN Epoch 19: Train Loss: 2.1833, Validation RMSE: 1.5816\n",
            "GCN Epoch 20: Train Loss: 2.2630, Validation RMSE: 1.5460\n",
            "GAT Epoch 01: Train Loss: 8.0066, Validation RMSE: 1.7246\n",
            "GAT Epoch 02: Train Loss: 2.6670, Validation RMSE: 1.6107\n",
            "GAT Epoch 03: Train Loss: 2.6749, Validation RMSE: 1.5895\n",
            "GAT Epoch 04: Train Loss: 2.4030, Validation RMSE: 1.5856\n",
            "GAT Epoch 05: Train Loss: 2.4396, Validation RMSE: 1.5101\n",
            "GAT Epoch 06: Train Loss: 2.1429, Validation RMSE: 1.5773\n",
            "GAT Epoch 07: Train Loss: 2.0441, Validation RMSE: 1.4251\n",
            "GAT Epoch 08: Train Loss: 1.9356, Validation RMSE: 1.4095\n",
            "GAT Epoch 09: Train Loss: 1.7903, Validation RMSE: 1.3414\n",
            "GAT Epoch 10: Train Loss: 1.7032, Validation RMSE: 1.3550\n",
            "GAT Epoch 11: Train Loss: 1.5019, Validation RMSE: 1.2553\n",
            "GAT Epoch 12: Train Loss: 1.4034, Validation RMSE: 1.1644\n",
            "GAT Epoch 13: Train Loss: 1.2306, Validation RMSE: 1.1228\n",
            "GAT Epoch 14: Train Loss: 1.1974, Validation RMSE: 1.1094\n",
            "GAT Epoch 15: Train Loss: 1.1209, Validation RMSE: 1.0722\n",
            "GAT Epoch 16: Train Loss: 1.0888, Validation RMSE: 1.0285\n",
            "GAT Epoch 17: Train Loss: 1.0384, Validation RMSE: 0.9982\n",
            "GAT Epoch 18: Train Loss: 1.0625, Validation RMSE: 1.0394\n",
            "GAT Epoch 19: Train Loss: 1.0036, Validation RMSE: 1.0023\n",
            "GAT Epoch 20: Train Loss: 1.0325, Validation RMSE: 0.9811\n"
          ]
        },
        {
          "output_type": "stream",
          "name": "stderr",
          "text": [
            "/usr/local/lib/python3.11/dist-packages/torch/nn/modules/loss.py:608: UserWarning: Using a target size (torch.Size([64])) that is different to the input size (torch.Size([3520, 1])). This will likely lead to incorrect results due to broadcasting. Please ensure they have the same size.\n",
            "  return F.mse_loss(input, target, reduction=self.reduction)\n",
            "/usr/local/lib/python3.11/dist-packages/torch/nn/modules/loss.py:608: UserWarning: Using a target size (torch.Size([6])) that is different to the input size (torch.Size([330, 1])). This will likely lead to incorrect results due to broadcasting. Please ensure they have the same size.\n",
            "  return F.mse_loss(input, target, reduction=self.reduction)\n",
            "/usr/local/lib/python3.11/dist-packages/torch/nn/modules/loss.py:608: UserWarning: Using a target size (torch.Size([48])) that is different to the input size (torch.Size([2640, 1])). This will likely lead to incorrect results due to broadcasting. Please ensure they have the same size.\n",
            "  return F.mse_loss(input, target, reduction=self.reduction)\n"
          ]
        },
        {
          "output_type": "stream",
          "name": "stdout",
          "text": [
            "TransformerGraph Epoch 01: Train Loss: 9.9295, Validation RMSE: 2.8847\n",
            "TransformerGraph Epoch 02: Train Loss: 5.5455, Validation RMSE: 2.2955\n",
            "TransformerGraph Epoch 03: Train Loss: 4.2650, Validation RMSE: 2.3354\n",
            "TransformerGraph Epoch 04: Train Loss: 4.4594, Validation RMSE: 2.2961\n",
            "TransformerGraph Epoch 05: Train Loss: 4.2807, Validation RMSE: 2.3311\n",
            "TransformerGraph Epoch 06: Train Loss: 4.1367, Validation RMSE: 2.3026\n",
            "TransformerGraph Epoch 07: Train Loss: 4.7600, Validation RMSE: 2.2934\n",
            "TransformerGraph Epoch 08: Train Loss: 4.0934, Validation RMSE: 2.3060\n",
            "TransformerGraph Epoch 09: Train Loss: 4.2007, Validation RMSE: 2.2922\n",
            "TransformerGraph Epoch 10: Train Loss: 4.3090, Validation RMSE: 2.3099\n",
            "TransformerGraph Epoch 11: Train Loss: 4.3508, Validation RMSE: 2.3287\n",
            "TransformerGraph Epoch 12: Train Loss: 4.4821, Validation RMSE: 2.2932\n",
            "TransformerGraph Epoch 13: Train Loss: 4.3757, Validation RMSE: 2.3139\n",
            "TransformerGraph Epoch 14: Train Loss: 4.2564, Validation RMSE: 2.2971\n",
            "TransformerGraph Epoch 15: Train Loss: 4.1410, Validation RMSE: 2.3188\n",
            "TransformerGraph Epoch 16: Train Loss: 4.2727, Validation RMSE: 2.2939\n",
            "TransformerGraph Epoch 17: Train Loss: 4.1904, Validation RMSE: 2.3029\n",
            "TransformerGraph Epoch 18: Train Loss: 4.1691, Validation RMSE: 2.2933\n",
            "TransformerGraph Epoch 19: Train Loss: 4.6452, Validation RMSE: 2.3057\n",
            "TransformerGraph Epoch 20: Train Loss: 4.1197, Validation RMSE: 2.3159\n"
          ]
        },
        {
          "output_type": "stream",
          "name": "stderr",
          "text": [
            "/usr/local/lib/python3.11/dist-packages/torch/nn/modules/loss.py:608: UserWarning: Using a target size (torch.Size([50])) that is different to the input size (torch.Size([2750, 1])). This will likely lead to incorrect results due to broadcasting. Please ensure they have the same size.\n",
            "  return F.mse_loss(input, target, reduction=self.reduction)\n"
          ]
        },
        {
          "output_type": "display_data",
          "data": {
            "text/plain": [
              "<Figure size 640x480 with 1 Axes>"
            ],
            "image/png": "[encoded data removed]"
          },
          "metadata": {}
        }
      ]
    },
    {
      "cell_type": "code",
      "source": [
        "# prompt: how to fix those warning? input and output size should be: Input size: torch.Size([64, 55, 64])\n",
        "# Output size: torch.Size([64, 55, 2])\n",
        "\n",
        "import torch\n",
        "import torch.nn as nn\n",
        "import torch.optim as optim\n",
        "from torch_geometric.loader import DataLoader\n",
        "from torch_geometric.datasets import MoleculeNet\n",
        "from torch_geometric.nn import GCNConv, global_mean_pool, GATConv\n",
        "from sklearn.metrics import mean_squared_error\n",
        "import matplotlib.pyplot as plt\n",
        "\n",
        "!pip install torch-geometric\n",
        "!pip install rdkit\n",
        "\n",
        "# **0- Libraries**\n",
        "\n",
        "# **1- Load Dataset**\n",
        "# Load ESOL dataset\n",
        "dataset = MoleculeNet(root='/tmp/ESOL', name='ESOL')\n",
        "\n",
        "# ... (rest of your code)\n",
        "\n",
        "# **5- Define Models**\n",
        "class TransformerGraphModel(nn.Module):\n",
        "    def __init__(self, input_dim, hidden_dim, num_classes=1, num_heads=8, dropout=0.1): # num_classes=1 for regression\n",
        "        super(TransformerGraphModel, self).__init__()\n",
        "        self.attention = nn.MultiheadAttention(input_dim, num_heads, dropout=dropout, batch_first=True)\n",
        "        self.fc1 = nn.Linear(input_dim, hidden_dim)\n",
        "        self.relu = nn.ReLU()\n",
        "        self.fc2 = nn.Linear(hidden_dim, num_classes) # Output dim is 1 for regression\n",
        "        self.dropout = nn.Dropout(dropout)\n",
        "\n",
        "    def forward(self, x, batch): # Added batch to the input\n",
        "        attn_output, _ = self.attention(x, x, x)\n",
        "        x = x + attn_output\n",
        "        x = self.dropout(self.relu(self.fc1(x)))\n",
        "        x = self.fc2(x)\n",
        "        x = global_mean_pool(x, batch) # Apply global_mean_pool\n",
        "        return x.squeeze(-1) # Return a single value per graph\n",
        "\n",
        "\n",
        "# ... (rest of your code)\n",
        "\n",
        "# **8- Analysis**\n",
        "# ... (rest of your code)\n",
        "\n",
        "\n",
        "def train_model(model, loader, optimizer):\n",
        "    model.train()\n",
        "    total_loss = 0\n",
        "    for data in loader:\n",
        "        data = data.to(device)\n",
        "        optimizer.zero_grad()\n",
        "\n",
        "        if isinstance(model, TransformerGraphModel):\n",
        "            out = model(data.x.float(), data.batch) # Pass batch to TransformerGraphModel\n",
        "        else:\n",
        "            out = model(data.x.float(), data.edge_index, data.batch)\n",
        "\n",
        "        loss = criterion(out, data.y.squeeze().float())\n",
        "        loss.backward()\n",
        "        optimizer.step()\n",
        "        total_loss += loss.item()\n",
        "    return total_loss / len(loader)\n",
        "\n",
        "def evaluate_model(model, loader):\n",
        "    model.eval()\n",
        "    total_loss = 0\n",
        "    with torch.no_grad():\n",
        "        for data in loader:\n",
        "            data = data.to(device)\n",
        "            if isinstance(model, TransformerGraphModel):\n",
        "                out = model(data.x.float(), data.batch) # Pass batch to TransformerGraphModel\n",
        "            else:\n",
        "                out = model(data.x.float(), data.edge_index, data.batch)\n",
        "\n",
        "            loss = criterion(out, data.y.squeeze().float())\n",
        "            total_loss += loss.item()\n",
        "    return total_loss / len(loader)"
      ],
      "metadata": {
        "id": "qUeMoixJWrc-"
      },
      "execution_count": null,
      "outputs": []
    }
  ]
}